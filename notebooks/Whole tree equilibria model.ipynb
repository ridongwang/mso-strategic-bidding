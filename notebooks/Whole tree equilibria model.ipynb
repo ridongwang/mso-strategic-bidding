{
 "cells": [
  {
   "cell_type": "code",
   "execution_count": 2,
   "id": "dea42468",
   "metadata": {
    "ExecuteTime": {
     "end_time": "2021-09-03T19:19:32.979000-03:00",
     "start_time": "2021-09-03T22:19:15.903Z"
    }
   },
   "outputs": [
    {
     "name": "stderr",
     "output_type": "stream",
     "text": [
      "┌ Info: Xpress: Found license file C:\\xpressmp\\bin\\xpauth.xpr\n",
      "└ @ Xpress C:\\Users\\rafabench\\.julia\\packages\\Xpress\\r6dU3\\src\\license.jl:42\n",
      "┌ Info: Xpress: Development license detected.\n",
      "└ @ Xpress C:\\Users\\rafabench\\.julia\\packages\\Xpress\\r6dU3\\src\\license.jl:84\n",
      "WARNING: using LinearAlgebra.cross in module Main conflicts with an existing identifier.\n"
     ]
    }
   ],
   "source": [
    "using SDDP, Statistics, Xpress, Gurobi\n",
    "using PyPlot, Random, LinearAlgebra"
   ]
  },
  {
   "cell_type": "code",
   "execution_count": 3,
   "id": "composite-moore",
   "metadata": {
    "ExecuteTime": {
     "end_time": "2021-09-03T19:19:35.187000-03:00",
     "start_time": "2021-09-03T22:19:16.098Z"
    }
   },
   "outputs": [
    {
     "data": {
      "text/plain": [
       "#15 (generic function with 1 method)"
      ]
     },
     "execution_count": 3,
     "metadata": {},
     "output_type": "execute_result"
    }
   ],
   "source": [
    "xpress = () -> Xpress.Optimizer(OUTPUTLOG = 0)\n",
    "xpress_debug = () -> Xpress.Optimizer()"
   ]
  },
  {
   "cell_type": "code",
   "execution_count": 4,
   "id": "sonic-proposition",
   "metadata": {
    "ExecuteTime": {
     "end_time": "2021-09-03T19:19:35.739000-03:00",
     "start_time": "2021-09-03T22:19:16.253Z"
    }
   },
   "outputs": [
    {
     "name": "stdout",
     "output_type": "stream",
     "text": [
      "\r\n",
      "--------------------------------------------\r\n",
      "Warning: your license will expire in 14 days\r\n",
      "--------------------------------------------\r\n",
      "\r\n",
      "Academic license - for non-commercial use only\r\n"
     ]
    },
    {
     "data": {
      "text/plain": [
       "#17 (generic function with 1 method)"
      ]
     },
     "execution_count": 4,
     "metadata": {},
     "output_type": "execute_result"
    }
   ],
   "source": [
    "const GRB_ENV = Gurobi.Env()\n",
    "gurobi = () -> Gurobi.Optimizer(GRB_ENV)"
   ]
  },
  {
   "cell_type": "code",
   "execution_count": 5,
   "id": "2fd97b08",
   "metadata": {
    "ExecuteTime": {
     "end_time": "2021-09-03T19:19:40.803000-03:00",
     "start_time": "2021-09-03T22:19:16.421Z"
    }
   },
   "outputs": [
    {
     "data": {
      "text/plain": [
       "conv_func (generic function with 1 method)"
      ]
     },
     "execution_count": 5,
     "metadata": {},
     "output_type": "execute_result"
    }
   ],
   "source": [
    "include(\"../src/revenue_function.jl\")"
   ]
  },
  {
   "cell_type": "markdown",
   "id": "broadband-albany",
   "metadata": {},
   "source": [
    "#### Build Tree"
   ]
  },
  {
   "cell_type": "code",
   "execution_count": 6,
   "id": "handy-empire",
   "metadata": {
    "ExecuteTime": {
     "end_time": "2021-09-03T19:19:40.959000-03:00",
     "start_time": "2021-09-03T22:19:17.062Z"
    }
   },
   "outputs": [
    {
     "data": {
      "text/plain": [
       "build_indices_stage (generic function with 1 method)"
      ]
     },
     "execution_count": 6,
     "metadata": {},
     "output_type": "execute_result"
    }
   ],
   "source": [
    "function build_indices_stage(T,S)\n",
    "    a = (1,)\n",
    "    for t in 1:T-1\n",
    "        a = (a...,S)\n",
    "    end\n",
    "    arr = []\n",
    "    foreach(x->push!(arr,Tuple(x)),CartesianIndices(a))\n",
    "    return arr\n",
    "end"
   ]
  },
  {
   "cell_type": "code",
   "execution_count": 7,
   "id": "dressed-analyst",
   "metadata": {
    "ExecuteTime": {
     "end_time": "2021-09-03T19:19:41.133000-03:00",
     "start_time": "2021-09-03T22:19:17.573Z"
    }
   },
   "outputs": [
    {
     "data": {
      "text/plain": [
       "childs (generic function with 1 method)"
      ]
     },
     "execution_count": 7,
     "metadata": {},
     "output_type": "execute_result"
    }
   ],
   "source": [
    "childs(node,S) = [(node...,s) for s in 1:S]"
   ]
  },
  {
   "cell_type": "code",
   "execution_count": 8,
   "id": "drawn-laser",
   "metadata": {
    "ExecuteTime": {
     "end_time": "2021-09-03T19:19:41.299000-03:00",
     "start_time": "2021-09-03T22:19:17.783Z"
    }
   },
   "outputs": [
    {
     "data": {
      "text/plain": [
       "parent (generic function with 1 method)"
      ]
     },
     "execution_count": 8,
     "metadata": {},
     "output_type": "execute_result"
    }
   ],
   "source": [
    "parent(node) = node[1:end-1]"
   ]
  },
  {
   "cell_type": "markdown",
   "id": "emotional-somewhere",
   "metadata": {},
   "source": [
    "#### Create multistage models"
   ]
  },
  {
   "cell_type": "code",
   "execution_count": 127,
   "id": "soviet-structure",
   "metadata": {
    "ExecuteTime": {
     "end_time": "2021-09-03T19:47:41.456000-03:00",
     "start_time": "2021-09-03T22:47:41.370Z"
    }
   },
   "outputs": [
    {
     "data": {
      "text/plain": [
       "cost_model (generic function with 1 method)"
      ]
     },
     "execution_count": 127,
     "metadata": {},
     "output_type": "execute_result"
    }
   ],
   "source": [
    "function cost_model(optimizer)\n",
    "    \n",
    "    model = Model(optimizer)\n",
    "    \n",
    "    # Operator\n",
    "    T = model[:T] = 4\n",
    "    \n",
    "    C = [20.0,30.0,20.0,15.0,8.0]\n",
    "    G_max = [30.0,25.0,20.0,10.0,5.0]\n",
    "    ρ = [1.0,1.0]\n",
    "    v_max = 200.0\n",
    "    D = sum(G_max)\n",
    "    K = length(G_max)\n",
    "    nagents = 2\n",
    "    \n",
    "    # Scenario generation\n",
    "    Ω = model[:Ω] = collect(0.6:0.1:1.0).*D\n",
    "    S = model[:S] = length(Ω)\n",
    "    idxs = build_indices_stage.(1:T,S)\n",
    "    idxs_vol = build_indices_stage.(1:T+1,S)\n",
    "    a = [10,2,10,2,10,2]\n",
    "    \n",
    "    \n",
    "    v = model[:v] = []\n",
    "    e = model[:e] = []\n",
    "    θ = model[:θ] = []\n",
    "    gh = model[:gh] = []\n",
    "    gt = model[:gt] = []\n",
    "    spill = model[:spill] = []\n",
    "    stage = 1\n",
    "    @variable(model, objective_stage[1:T], base_name=\"obj_$stage\", lower_bound = 0)\n",
    "    for idx in idxs_vol\n",
    "        push!(v,\n",
    "            @variable(model, [i in idx, a in 1:nagents], base_name=\"v_$stage\", lower_bound = 0, upper_bound =  v_max))\n",
    "        stage += 1\n",
    "    end\n",
    "    stage = 1\n",
    "    for idx in idxs\n",
    "        push!(e,@variable(model, [i in idx], base_name=\"e_$stage\", lower_bound = 0))\n",
    "        push!(θ,@variable(model, [i in idx], base_name=\"θ_$stage\", lower_bound = 0))\n",
    "        push!(gh,@variable(model, [i in idx, a in 1:nagents], base_name=\"gh_$stage\", lower_bound = 0))\n",
    "        push!(gt,@variable(model, [i in idx, g in 1:K], base_name=\"gt_$stage\", lower_bound = 0))\n",
    "        push!(spill,@variable(model, [i in idx, a in 1:nagents], base_name=\"spill_$stage\", lower_bound = 0))\n",
    "        stage += 1\n",
    "    end\n",
    "    \n",
    "    for g in 1:2\n",
    "        @constraint(model, v[1][(1,),g] == 25.0)\n",
    "    end\n",
    "    \n",
    "    for t = 1:T\n",
    "        for scen in idxs[t]\n",
    "            C_t = C\n",
    "            G_t = G_max\n",
    "            s = scen[t]\n",
    "            D_s = Ω[s]\n",
    "            obj = sum(C_t[g]*gt[t][scen,g] for g in 1:K) #+ 10*sum(gh[t][scen,g]*ρ[g] for g in 1:nagents)\n",
    "            @constraint(model, θ[t][scen] == obj)\n",
    "            @constraint(model, e[t][scen] == D_s)\n",
    "            @constraint(model, \n",
    "                sum(gh[t][scen,g]*ρ[g] for g in 1:nagents) + sum(gt[t][scen,g] for g in 1:K) == e[t][scen])\n",
    "            \n",
    "            for g in 1:K\n",
    "                @constraint(model, gt[t][scen,g] <= G_t[g])\n",
    "            end\n",
    "            child_nodes = childs(scen,S)\n",
    "            for node in child_nodes\n",
    "                for g in 1:nagents\n",
    "                    @constraint(model, v[t+1][node,g] == v[t][scen,g] + a[t] - gh[t][scen,g] - spill[t][scen,g])\n",
    "                end\n",
    "            end\n",
    "        end\n",
    "        @constraint(model, objective_stage[t] == 1/length(idxs[t]).*sum([θ[t]...]))\n",
    "    end\n",
    "    @objective(model, Min, sum(objective_stage));\n",
    "    return model\n",
    "end"
   ]
  },
  {
   "cell_type": "code",
   "execution_count": 128,
   "id": "occasional-velvet",
   "metadata": {
    "ExecuteTime": {
     "end_time": "2021-09-03T19:47:41.632000-03:00",
     "start_time": "2021-09-03T22:47:41.559Z"
    }
   },
   "outputs": [
    {
     "data": {
      "text/plain": [
       "agent_model_deterministic (generic function with 1 method)"
      ]
     },
     "execution_count": 128,
     "metadata": {},
     "output_type": "execute_result"
    }
   ],
   "source": [
    "function agent_model_deterministic(bids_not_i,preco_agente_not_i,i,optimizer;\n",
    "        integrality::INTEGRALITY=MIP,all_prices=false)\n",
    "    \n",
    "    model = Model(optimizer)\n",
    "    \n",
    "    # Operator\n",
    "    T = model[:T] = 4\n",
    "    \n",
    "    C = [20.0,30.0,20.0,15.0,8.0]\n",
    "    G_max = [30.0,25.0,20.0,10.0,5.0]\n",
    "    ρ = 1.0\n",
    "    v_max = 200.0\n",
    "    D = sum(G_max)\n",
    "    K = length(G_max)+1-1\n",
    "    \n",
    "    # Scenario generation\n",
    "    Ω = model[:Ω] = collect(0.6:0.033:1.0).*D\n",
    "    S = model[:S] = length(Ω)\n",
    "    idxs = build_indices_stage.(1:T,S)\n",
    "    idxs_vol = build_indices_stage.(1:T+1,S)\n",
    "    a = [10,2,10,2,10,2]\n",
    "    \n",
    "    \n",
    "    v = model[:v] = []\n",
    "    e = model[:e] = []\n",
    "    θ = model[:θ] = []\n",
    "    g = model[:g] = []\n",
    "    spill = model[:spill] = []\n",
    "    stage = 1\n",
    "    @variable(model, objective_stage[1:T], base_name=\"obj_$stage\", lower_bound = 0)\n",
    "    for idx in idxs_vol\n",
    "        push!(v,@variable(model, [i in idx], base_name=\"v_$stage\", lower_bound = 0, upper_bound =  v_max))\n",
    "        stage += 1\n",
    "    end\n",
    "    stage = 1\n",
    "    for idx in idxs\n",
    "        push!(e,@variable(model, [i in idx], base_name=\"e_$stage\", lower_bound = 0))\n",
    "        push!(θ,@variable(model, [i in idx], base_name=\"θ_$stage\", lower_bound = 0))\n",
    "        push!(g,@variable(model, [i in idx], base_name=\"g_$stage\", lower_bound = 0))\n",
    "        push!(spill,@variable(model, [i in idx], base_name=\"spill_$stage\", lower_bound = 0))\n",
    "        stage += 1\n",
    "    end\n",
    "\n",
    "    @constraint(model, v[1][(1,)] == 25.0)\n",
    "    \n",
    "    for t = 1:T\n",
    "        for (idx_scen,scen) in enumerate(idxs[t])\n",
    "            if all_prices\n",
    "                C_t = [C; preco_agente_not_i[t][idx_scen]]\n",
    "                G_t = [G_max; bids_not_i[t][idx_scen]]\n",
    "            else\n",
    "                C_t = [C; preco_agente_not_i[t]]\n",
    "                G_t = [G_max; bids_not_i[t]]\n",
    "            end\n",
    "            s = scen[t]\n",
    "            D_s = Ω[s]\n",
    "            obj = reward_function(G_t,C_t,D_s,e[t][scen],model; integrality = integrality)\n",
    "            @constraint(model, θ[t][scen] == obj)\n",
    "            @constraint(model, e[t][scen] == g[t][scen]*ρ)\n",
    "            child_nodes = childs(scen,S)\n",
    "            for node in child_nodes\n",
    "                @constraint(model, v[t+1][node] == v[t][scen] + a[t] - g[t][scen] - spill[t][scen])\n",
    "            end\n",
    "        end\n",
    "        @constraint(model, objective_stage[t] == 1/length(idxs[t]).*sum([θ[t]...]))\n",
    "    end\n",
    "    @objective(model, Max, sum(objective_stage));\n",
    "    return model\n",
    "end"
   ]
  },
  {
   "cell_type": "markdown",
   "id": "renewable-mineral",
   "metadata": {},
   "source": [
    "#### Results processing"
   ]
  },
  {
   "cell_type": "code",
   "execution_count": 129,
   "id": "lovely-roads",
   "metadata": {
    "ExecuteTime": {
     "end_time": "2021-09-03T19:47:42.204000-03:00",
     "start_time": "2021-09-03T22:47:42.198Z"
    }
   },
   "outputs": [
    {
     "data": {
      "text/plain": [
       "get_demand (generic function with 1 method)"
      ]
     },
     "execution_count": 129,
     "metadata": {},
     "output_type": "execute_result"
    }
   ],
   "source": [
    "get_demand(node, Ω) = Ω[node[end]]"
   ]
  },
  {
   "cell_type": "code",
   "execution_count": 130,
   "id": "cellular-junction",
   "metadata": {
    "ExecuteTime": {
     "end_time": "2021-09-03T19:47:42.426000-03:00",
     "start_time": "2021-09-03T22:47:42.399Z"
    }
   },
   "outputs": [
    {
     "data": {
      "text/plain": [
       "results (generic function with 1 method)"
      ]
     },
     "execution_count": 130,
     "metadata": {},
     "output_type": "execute_result"
    }
   ],
   "source": [
    "function results(model;cost=false)\n",
    "    v = Dict()\n",
    "    e = Dict()\n",
    "    θ = Dict()\n",
    "    if !cost\n",
    "        g = Dict()\n",
    "    else\n",
    "        gt = Dict()\n",
    "        gh = Dict()\n",
    "    end\n",
    "    spill = Dict()\n",
    "    cmo = Dict()\n",
    "    T = model[:T]\n",
    "    S = model[:S]\n",
    "    for t in 1:T\n",
    "        for scen in axes(model[:θ][t])[1]\n",
    "            if !cost\n",
    "                g[scen] = value(model[:g][t][scen])\n",
    "                spill[scen] = value(model[:spill][t][scen])\n",
    "                v[scen] = value(model[:v][t][scen])\n",
    "            else\n",
    "                G = last(axes(model[:gt][1])[2])\n",
    "                A = last(axes(model[:gh][1])[2])\n",
    "                gt[scen] = value.([model[:gt][t][scen,g] for g in 1:G])\n",
    "                gh[scen] = value.([model[:gh][t][scen,g] for g in 1:A])\n",
    "                spill[scen] = value.([model[:spill][t][scen,g] for g in 1:A])\n",
    "                v[scen] = value.([model[:v][t][scen,g] for g in 1:A])\n",
    "            end\n",
    "            e[scen] = value(model[:e][t][scen])\n",
    "            θ[scen] = value(model[:θ][t][scen])\n",
    "            cmo[scen] = value(model[:θ][t][scen]) / value(model[:e][t][scen])\n",
    "        end\n",
    "        \n",
    "    end\n",
    "    for scen in axes(model[:v][T+1])[1]\n",
    "        if !cost\n",
    "            v[scen] = value(model[:v][T+1][scen])\n",
    "        else\n",
    "            A = last(axes(model[:gh][1])[2])\n",
    "            v[scen] =  value.([model[:v][T+1][scen,g] for g in 1:A])\n",
    "        end\n",
    "    end\n",
    "    if !cost\n",
    "        data = Dict(Symbol(\"T\") => T, Symbol(\"S\") => S, Symbol(\"e\") => e, Symbol(\"g\") => g, \n",
    "            Symbol(\"spill\") => spill, Symbol(\"θ\") => θ, Symbol(\"v\") => v,Symbol(\"cmo\") => cmo)\n",
    "    else\n",
    "        data = Dict(Symbol(\"T\") => T, Symbol(\"S\") => S, Symbol(\"e\") => e, Symbol(\"gt\") => gt, Symbol(\"gh\") => gh,\n",
    "            Symbol(\"spill\") => spill, Symbol(\"θ\") => θ, Symbol(\"v\") => v,Symbol(\"cmo\") => cmo)\n",
    "    end\n",
    "    return data\n",
    "end"
   ]
  },
  {
   "cell_type": "code",
   "execution_count": 131,
   "id": "applicable-shopper",
   "metadata": {
    "ExecuteTime": {
     "end_time": "2021-09-03T19:47:42.798000-03:00",
     "start_time": "2021-09-03T22:47:42.792Z"
    }
   },
   "outputs": [
    {
     "data": {
      "text/plain": [
       "get_idxs (generic function with 1 method)"
      ]
     },
     "execution_count": 131,
     "metadata": {},
     "output_type": "execute_result"
    }
   ],
   "source": [
    "get_idxs(model, t) = axes(model[:θ][t])[1]"
   ]
  },
  {
   "cell_type": "code",
   "execution_count": 132,
   "id": "returning-bennett",
   "metadata": {
    "ExecuteTime": {
     "end_time": "2021-09-03T19:47:43.057000-03:00",
     "start_time": "2021-09-03T22:47:43.050Z"
    }
   },
   "outputs": [
    {
     "data": {
      "text/plain": [
       "filtration (generic function with 1 method)"
      ]
     },
     "execution_count": 132,
     "metadata": {},
     "output_type": "execute_result"
    }
   ],
   "source": [
    "filtration(leaf) = [leaf[1:t] for t in 1:length(leaf)]"
   ]
  },
  {
   "cell_type": "markdown",
   "id": "verbal-future",
   "metadata": {},
   "source": [
    "#### Run Models"
   ]
  },
  {
   "cell_type": "code",
   "execution_count": 133,
   "id": "experienced-secondary",
   "metadata": {
    "ExecuteTime": {
     "end_time": "2021-09-03T19:47:43.469000-03:00",
     "start_time": "2021-09-03T22:47:43.460Z"
    }
   },
   "outputs": [
    {
     "data": {
      "text/plain": [
       "4-element Vector{Int64}:\n",
       " 15\n",
       " 47\n",
       " 35\n",
       " 40"
      ]
     },
     "execution_count": 133,
     "metadata": {},
     "output_type": "execute_result"
    }
   ],
   "source": [
    "price_agent = [30.0,20.0,10.0,15.0]\n",
    "bid_agent = [15,47,35,40]"
   ]
  },
  {
   "cell_type": "code",
   "execution_count": 134,
   "id": "pointed-secondary",
   "metadata": {
    "ExecuteTime": {
     "end_time": "2021-09-03T19:47:46.029000-03:00",
     "start_time": "2021-09-03T22:47:43.645Z"
    }
   },
   "outputs": [],
   "source": [
    "model0 = cost_model(gurobi);"
   ]
  },
  {
   "cell_type": "code",
   "execution_count": 135,
   "id": "stable-soldier",
   "metadata": {
    "ExecuteTime": {
     "end_time": "2021-09-03T19:47:46.090000-03:00",
     "start_time": "2021-09-03T22:47:44.105Z"
    },
    "scrolled": true
   },
   "outputs": [
    {
     "name": "stdout",
     "output_type": "stream",
     "text": [
      "Gurobi Optimizer version 9.0.1 build v9.0.1rc0 (win64)\r\n",
      "Optimize a model with 2814 rows, 3282 columns and 9522 nonzeros\r\n",
      "Model fingerprint: 0x4a5ec558\r\n",
      "Coefficient statistics:\r\n",
      "  Matrix range     [8e-03, 3e+01]\r\n",
      "  Objective range  [1e+00, 1e+00]\r\n",
      "  Bounds range     [2e+02, 2e+02]\r\n",
      "  RHS range        [2e+00, 9e+01]\r\n",
      "Presolve removed 1098 rows and 537 columns\r\n",
      "Presolve time: 0.02s\r\n",
      "Presolved: 1716 rows, 2745 columns, 7103 nonzeros\r\n",
      "\r\n",
      "Iteration    Objective       Primal Inf.    Dual Inf.      Time\r\n",
      "       0    0.0000000e+00   1.053356e+03   0.000000e+00      0s\r\n",
      "    2144    3.0000000e+03   0.000000e+00   0.000000e+00      0s\r\n",
      "\r\n",
      "Solved in 2144 iterations and 0.04 seconds\r\n",
      "Optimal objective  3.000000000e+03\r\n",
      "\r\n",
      "User-callback calls 2221, time in user-callback 0.00 sec\r\n"
     ]
    }
   ],
   "source": [
    "optimize!(model0)"
   ]
  },
  {
   "cell_type": "code",
   "execution_count": 136,
   "id": "faced-stable",
   "metadata": {
    "ExecuteTime": {
     "end_time": "2021-09-03T19:47:50.681000-03:00",
     "start_time": "2021-09-03T22:47:49.449Z"
    }
   },
   "outputs": [],
   "source": [
    "data0 = results(model0,cost=true);"
   ]
  },
  {
   "cell_type": "code",
   "execution_count": 139,
   "id": "molecular-matrix",
   "metadata": {
    "ExecuteTime": {
     "end_time": "2021-09-03T19:48:11.024000-03:00",
     "start_time": "2021-09-03T22:48:07.432Z"
    }
   },
   "outputs": [],
   "source": [
    "model3 = agent_model_deterministic(bid_agent,price_agent,1,gurobi;integrality=LP);"
   ]
  },
  {
   "cell_type": "code",
   "execution_count": 140,
   "id": "biblical-solid",
   "metadata": {
    "ExecuteTime": {
     "end_time": "2021-09-03T19:48:13.009000-03:00",
     "start_time": "2021-09-03T22:48:09.405Z"
    },
    "scrolled": true
   },
   "outputs": [
    {
     "name": "stdout",
     "output_type": "stream",
     "text": [
      "Gurobi Optimizer version 9.0.1 build v9.0.1rc0 (win64)\r\n",
      "Optimize a model with 62345 rows, 62345 columns and 206295 nonzeros\r\n",
      "Model fingerprint: 0xd1a8fd37\r\n",
      "Coefficient statistics:\r\n",
      "  Matrix range     [5e-04, 9e+01]\r\n",
      "  Objective range  [1e+00, 1e+00]\r\n",
      "  Bounds range     [1e+00, 2e+02]\r\n",
      "  RHS range        [1e+00, 3e+01]\r\n",
      "\r\n",
      "Concurrent LP optimizer: dual simplex and barrier\r\n",
      "Showing barrier log only...\r\n",
      "\r\n",
      "Presolve removed 16895 rows and 11905 columns\r\n",
      "Presolve time: 0.25s\r\n",
      "Presolved: 45450 rows, 50440 columns, 188383 nonzeros\r\n",
      "\r\n",
      "Ordering time: 0.01s\r\n",
      "\r\n",
      "Barrier statistics:\r\n",
      " AA' NZ     : 3.731e+05\r\n",
      " Factor NZ  : 5.066e+05 (roughly 40 MBytes of memory)\r\n",
      " Factor Ops : 7.062e+06 (less than 1 second per iteration)\r\n",
      " Threads    : 1\r\n",
      "\r\n",
      "                  Objective                Residual\r\n",
      "Iter       Primal          Dual         Primal    Dual     Compl     Time\r\n",
      "   0   2.06645194e+03  3.94539304e+07  6.94e+01 2.27e+01  1.20e+03     0s\r\n",
      "   1   1.84996713e+03  1.96153982e+07  4.42e+01 5.70e+00  4.97e+02     1s\r\n",
      "   2   1.27120306e+03  7.75084511e+06  2.68e+01 2.11e-01  1.91e+02     1s\r\n",
      "   3   9.11443328e+02  3.08149517e+06  1.76e+01 3.11e-14  8.26e+01     1s\r\n",
      "   4   5.23659445e+02  8.45874777e+05  6.67e+00 7.35e-14  2.74e+01     1s\r\n",
      "   5   3.81507629e+02  3.32098246e+05  6.54e-01 7.57e-14  5.08e+00     1s\r\n",
      "\r\n",
      "Barrier performed 5 iterations in 0.71 seconds\r\n",
      "Barrier solve interrupted - model solved by another algorithm\r\n",
      "\r\n",
      "\r\n",
      "Solved with dual simplex\r\n",
      "Solved in 17996 iterations and 0.72 seconds\r\n",
      "Optimal objective  9.785648234e+02\r\n",
      "\r\n",
      "User-callback calls 440, time in user-callback 0.00 sec\r\n"
     ]
    }
   ],
   "source": [
    "optimize!(model3)"
   ]
  },
  {
   "cell_type": "code",
   "execution_count": 141,
   "id": "processed-germany",
   "metadata": {
    "ExecuteTime": {
     "end_time": "2021-09-03T19:48:13.591000-03:00",
     "start_time": "2021-09-03T22:48:13.280Z"
    }
   },
   "outputs": [],
   "source": [
    "data3 = results(model3);"
   ]
  },
  {
   "cell_type": "code",
   "execution_count": 142,
   "id": "listed-family",
   "metadata": {
    "ExecuteTime": {
     "end_time": "2021-09-03T19:48:17.208000-03:00",
     "start_time": "2021-09-03T22:48:16.681Z"
    }
   },
   "outputs": [],
   "source": [
    "model2 = agent_model_deterministic(bid_agent,price_agent,1,gurobi;integrality=CONC);"
   ]
  },
  {
   "cell_type": "code",
   "execution_count": 143,
   "id": "neutral-smith",
   "metadata": {
    "ExecuteTime": {
     "end_time": "2021-09-03T19:48:20.415000-03:00",
     "start_time": "2021-09-03T22:48:19.624Z"
    },
    "scrolled": true
   },
   "outputs": [
    {
     "name": "stdout",
     "output_type": "stream",
     "text": [
      "Gurobi Optimizer version 9.0.1 build v9.0.1rc0 (win64)\r\n",
      "Optimize a model with 45304 rows, 45225 columns and 154863 nonzeros\r\n",
      "Model fingerprint: 0x311e0f10\r\n",
      "Coefficient statistics:\r\n",
      "  Matrix range     [5e-04, 1e+02]\r\n",
      "  Objective range  [1e+00, 1e+00]\r\n",
      "  Bounds range     [2e+02, 2e+02]\r\n",
      "  RHS range        [3e-14, 1e+04]\r\n",
      "\r\n",
      "Concurrent LP optimizer: dual simplex and barrier\r\n",
      "Showing barrier log only...\r\n",
      "\r\n",
      "Presolve removed 9567 rows and 7173 columns\r\n",
      "Presolve time: 0.14s\r\n",
      "Presolved: 35737 rows, 38052 columns, 133159 nonzeros\r\n",
      "\r\n",
      "Ordering time: 0.00s\r\n",
      "\r\n",
      "Barrier statistics:\r\n",
      " AA' NZ     : 2.168e+03\r\n",
      " Factor NZ  : 4.794e+03\r\n",
      " Factor Ops : 7.293e+04 (less than 1 second per iteration)\r\n",
      " Threads    : 1\r\n",
      "\r\n",
      "                  Objective                Residual\r\n",
      "Iter       Primal          Dual         Primal    Dual     Compl     Time\r\n",
      "   0   8.39401489e+04  1.46767079e+06  9.17e+02 5.93e+00  2.33e+04     0s\r\n",
      "   1   5.02995075e+03  1.83335753e+06  3.74e+02 9.19e+00  8.94e+03     0s\r\n",
      "   2   2.09377003e+03  1.16934308e+06  3.82e+01 2.82e-01  1.68e+03     0s\r\n",
      "   3   1.16240959e+03  5.92159230e+04  1.51e+01 1.44e-14  1.05e+02     0s\r\n",
      "   4   3.63369595e+02  2.31943247e+04  4.62e-14 6.39e-14  2.42e+01     0s\r\n",
      "   5   4.22035477e+02  2.27387844e+03  2.71e-14 7.11e-14  1.97e+00     0s\r\n",
      "   6   8.17637845e+02  1.25106808e+03  1.82e-14 8.88e-15  4.60e-01     0s\r\n",
      "   7   9.28135112e+02  1.08667339e+03  7.11e-15 5.33e-15  1.68e-01     0s\r\n",
      "   8   9.56945559e+02  1.01794635e+03  6.66e-15 5.33e-15  6.48e-02     0s\r\n",
      "   9   9.67099044e+02  9.98033599e+02  9.33e-15 8.78e-15  3.28e-02     0s\r\n",
      "  10   9.72141972e+02  9.90207227e+02  2.31e-14 5.33e-14  1.92e-02     0s\r\n",
      "  11   9.74630428e+02  9.81689237e+02  1.02e-14 3.55e-15  7.49e-03     0s\r\n",
      "  12   9.78433820e+02  9.79100854e+02  3.64e-14 1.47e-14  7.08e-04     0s\r\n",
      "  13   9.78554418e+02  9.78574825e+02  3.29e-13 3.86e-14  2.17e-05     0s\r\n",
      "  14   9.78564768e+02  9.78564944e+02  8.18e-10 5.33e-15  1.87e-07     0s\r\n",
      "  15   9.78564823e+02  9.78564823e+02  1.25e-09 2.05e-14  1.87e-10     0s\r\n",
      "  16   9.78564823e+02  9.78564823e+02  2.65e-12 5.33e-15  1.87e-13     0s\r\n",
      "\r\n",
      "Barrier solved model in 16 iterations and 0.20 seconds\r\n",
      "Optimal objective 9.78564823e+02\r\n",
      "\r\n",
      "Crossover log...\r\n",
      "\r\n",
      "       0 DPushes remaining with DInf 0.0000000e+00                 0s\r\n",
      "\r\n",
      "       0 PPushes remaining with PInf 0.0000000e+00                 0s\r\n",
      "\r\n",
      "  Push phase complete: Pinf 0.0000000e+00, Dinf 3.0839047e-14      0s\r\n",
      "\r\n",
      "Iteration    Objective       Primal Inf.    Dual Inf.      Time\r\n",
      "   30410    9.7856482e+02   0.000000e+00   0.000000e+00      0s\r\n",
      "\r\n",
      "Solved with barrier\r\n",
      "Solved in 30410 iterations and 0.46 seconds\r\n",
      "Optimal objective  9.785648234e+02\r\n",
      "\r\n",
      "User-callback calls 30585, time in user-callback 0.00 sec\r\n"
     ]
    }
   ],
   "source": [
    "optimize!(model2)"
   ]
  },
  {
   "cell_type": "code",
   "execution_count": 144,
   "id": "every-inside",
   "metadata": {
    "ExecuteTime": {
     "end_time": "2021-09-03T19:48:24.600000-03:00",
     "start_time": "2021-09-03T22:48:24.452Z"
    }
   },
   "outputs": [],
   "source": [
    "data2 = results(model2);"
   ]
  },
  {
   "cell_type": "code",
   "execution_count": 145,
   "id": "extensive-chinese",
   "metadata": {
    "ExecuteTime": {
     "end_time": "2021-09-03T19:48:27.262000-03:00",
     "start_time": "2021-09-03T22:48:26.625Z"
    }
   },
   "outputs": [],
   "source": [
    "model1 = agent_model_deterministic(bid_agent,price_agent,1,gurobi;integrality=MIP);"
   ]
  },
  {
   "cell_type": "code",
   "execution_count": 146,
   "id": "gorgeous-compromise",
   "metadata": {
    "ExecuteTime": {
     "end_time": "2021-09-03T19:48:30.050000-03:00",
     "start_time": "2021-09-03T22:48:27.026Z"
    },
    "scrolled": true
   },
   "outputs": [
    {
     "name": "stdout",
     "output_type": "stream",
     "text": [
      "Gurobi Optimizer version 9.0.1 build v9.0.1rc0 (win64)\r\n",
      "Optimize a model with 62345 rows, 62345 columns and 206295 nonzeros\r\n",
      "Model fingerprint: 0xbafce45c\r\n",
      "Variable types: 52595 continuous, 9750 integer (9750 binary)\r\n",
      "Coefficient statistics:\r\n",
      "  Matrix range     [5e-04, 9e+01]\r\n",
      "  Objective range  [1e+00, 1e+00]\r\n",
      "  Bounds range     [2e+02, 2e+02]\r\n",
      "  RHS range        [1e+00, 3e+01]\r\n",
      "Presolve removed 50838 rows and 52866 columns\r\n",
      "Presolve time: 0.58s\r\n",
      "Presolved: 11507 rows, 9479 columns, 32918 nonzeros\r\n",
      "Variable types: 5871 continuous, 3608 integer (3608 binary)\r\n",
      "\r\n",
      "Root relaxation: objective 9.785628e+02, 3891 iterations, 0.04 seconds\r\n",
      "\r\n",
      "    Nodes    |    Current Node    |     Objective Bounds      |     Work\r\n",
      " Expl Unexpl |  Obj  Depth IntInf | Incumbent    BestBd   Gap | It/Node Time\r\n",
      "\r\n",
      "     0     0  978.56279    0  208          -  978.56279      -     -    1s\r\n",
      "H    0     0                     977.4565089  978.56279  0.11%     -    1s\r\n",
      "H    0     0                     977.8687301  978.56279  0.07%     -    1s\r\n",
      "     0     0  978.39248    0   26  977.86873  978.39248  0.05%     -    1s\r\n",
      "H    0     0                     977.9334320  978.39248  0.05%     -    1s\r\n",
      "H    0     0                     978.0666136  978.39248  0.03%     -    1s\r\n",
      "*    0     0               0     978.2721893  978.27219  0.00%     -    1s\r\n",
      "\r\n",
      "Cutting planes:\r\n",
      "  Gomory: 104\r\n",
      "  Implied bound: 26\r\n",
      "  Clique: 26\r\n",
      "  MIR: 33\r\n",
      "  Flow cover: 365\r\n",
      "  Relax-and-lift: 336\r\n",
      "\r\n",
      "Explored 1 nodes (4646 simplex iterations) in 1.82 seconds\r\n",
      "Thread count was 4 (of 4 available processors)\r\n",
      "\r\n",
      "Solution count 5: 978.272 978.067 977.933 ... 977.457\r\n",
      "\r\n",
      "Optimal solution found (tolerance 1.00e-04)\r\n",
      "Best objective 9.782721893491e+02, best bound 9.782721893491e+02, gap 0.0000%\r\n",
      "\r\n",
      "User-callback calls 270, time in user-callback 0.00 sec\r\n"
     ]
    }
   ],
   "source": [
    "optimize!(model1)"
   ]
  },
  {
   "cell_type": "code",
   "execution_count": 147,
   "id": "possible-europe",
   "metadata": {
    "ExecuteTime": {
     "end_time": "2021-09-03T19:48:30.966000-03:00",
     "start_time": "2021-09-03T22:48:30.815Z"
    }
   },
   "outputs": [],
   "source": [
    "data1 = results(model1);"
   ]
  },
  {
   "cell_type": "code",
   "execution_count": 148,
   "id": "cathedral-denmark",
   "metadata": {
    "ExecuteTime": {
     "end_time": "2021-09-03T19:48:31.896000-03:00",
     "start_time": "2021-09-03T22:48:31.400Z"
    }
   },
   "outputs": [
    {
     "data": {
      "text/plain": [
       "2999.9999999999995"
      ]
     },
     "execution_count": 148,
     "metadata": {},
     "output_type": "execute_result"
    }
   ],
   "source": [
    "objective_value(model0)"
   ]
  },
  {
   "cell_type": "code",
   "execution_count": 149,
   "id": "rocky-privilege",
   "metadata": {
    "ExecuteTime": {
     "end_time": "2021-09-03T19:48:33.244000-03:00",
     "start_time": "2021-09-03T22:48:33.241Z"
    }
   },
   "outputs": [
    {
     "data": {
      "text/plain": [
       "978.2721893491128"
      ]
     },
     "execution_count": 149,
     "metadata": {},
     "output_type": "execute_result"
    }
   ],
   "source": [
    "objective_value(model1)"
   ]
  },
  {
   "cell_type": "code",
   "execution_count": 150,
   "id": "novel-smell",
   "metadata": {
    "ExecuteTime": {
     "end_time": "2021-09-03T19:48:33.910000-03:00",
     "start_time": "2021-09-03T22:48:33.907Z"
    }
   },
   "outputs": [
    {
     "data": {
      "text/plain": [
       "978.5648233727793"
      ]
     },
     "execution_count": 150,
     "metadata": {},
     "output_type": "execute_result"
    }
   ],
   "source": [
    "objective_value(model2)"
   ]
  },
  {
   "cell_type": "code",
   "execution_count": 151,
   "id": "valued-rotation",
   "metadata": {
    "ExecuteTime": {
     "end_time": "2021-09-03T19:48:34.647000-03:00",
     "start_time": "2021-09-03T22:48:34.645Z"
    },
    "scrolled": true
   },
   "outputs": [
    {
     "data": {
      "text/plain": [
       "978.564823372779"
      ]
     },
     "execution_count": 151,
     "metadata": {},
     "output_type": "execute_result"
    }
   ],
   "source": [
    "objective_value(model3)"
   ]
  },
  {
   "cell_type": "markdown",
   "id": "outstanding-bargain",
   "metadata": {},
   "source": [
    "#### Plot results"
   ]
  },
  {
   "cell_type": "code",
   "execution_count": 152,
   "id": "adverse-apartment",
   "metadata": {
    "ExecuteTime": {
     "end_time": "2021-09-03T19:48:37.582000-03:00",
     "start_time": "2021-09-03T22:48:37.404Z"
    }
   },
   "outputs": [
    {
     "data": {
      "text/plain": [
       "plot_results (generic function with 1 method)"
      ]
     },
     "execution_count": 152,
     "metadata": {},
     "output_type": "execute_result"
    }
   ],
   "source": [
    "function plot_results(data, vars, leaves) \n",
    "    T = data[:T]\n",
    "    S = data[:S]\n",
    "    yss = []\n",
    "    for var in vars\n",
    "        fig = figure()\n",
    "        all_leaves = ifelse(var == \"v\",vcat(childs.(leaves,S)...),leaves)\n",
    "        for leaf in all_leaves\n",
    "            ys = [data[Symbol(var)][scen] for scen in filtration(leaf)]\n",
    "            push!(yss,ys)\n",
    "            last = ifelse(var == \"v\",T+1,T)\n",
    "            plt.plot(1:last, ys)\n",
    "            xticks(1:last)\n",
    "            grid()\n",
    "        end\n",
    "    end\n",
    "    return yss\n",
    "end"
   ]
  },
  {
   "cell_type": "code",
   "execution_count": 153,
   "id": "adapted-session",
   "metadata": {
    "ExecuteTime": {
     "end_time": "2021-09-03T19:48:38.374000-03:00",
     "start_time": "2021-09-03T22:48:38.104Z"
    }
   },
   "outputs": [
    {
     "data": {
      "text/plain": [
       "hist_results (generic function with 1 method)"
      ]
     },
     "execution_count": 153,
     "metadata": {},
     "output_type": "execute_result"
    }
   ],
   "source": [
    "function hist_results(data, vars, leaves) \n",
    "    T = data[:T]\n",
    "    S = data[:S]\n",
    "    for var in vars\n",
    "        fig = figure()\n",
    "        all_leaves = ifelse(var == \"v\",vcat(childs.(leaves,S)...),leaves)\n",
    "        last = ifelse(var == \"v\",T+1,T)\n",
    "        ys = [[data[Symbol(var)][scen] for scen in filtration(leaf)] for leaf in all_leaves]\n",
    "        ys = hcat(ys...)'\n",
    "        plt.hist(ys)\n",
    "        plt.legend(string.(1:last))\n",
    "        plt.xlabel(var)\n",
    "    end\n",
    "end"
   ]
  },
  {
   "cell_type": "code",
   "execution_count": 164,
   "id": "collectible-order",
   "metadata": {
    "ExecuteTime": {
     "end_time": "2021-09-03T19:56:26.805000-03:00",
     "start_time": "2021-09-03T22:56:26.801Z"
    }
   },
   "outputs": [],
   "source": [
    "idxs_vol = build_indices_stage.(1:4,5);"
   ]
  },
  {
   "cell_type": "code",
   "execution_count": 155,
   "id": "silent-raleigh",
   "metadata": {
    "ExecuteTime": {
     "end_time": "2021-09-03T19:48:45.641000-03:00",
     "start_time": "2021-09-03T22:48:39.994Z"
    }
   },
   "outputs": [
    {
     "data": {
      "image/png": "[encoded data removed]",
      "text/plain": [
       "Figure(PyObject <Figure size 640x480 with 1 Axes>)"
      ]
     },
     "metadata": {},
     "output_type": "display_data"
    }
   ],
   "source": [
    "yss = plot_results(data1,[\"e\"], idxs_vol[4][1:100])\n",
    "grid()"
   ]
  },
  {
   "cell_type": "code",
   "execution_count": 168,
   "id": "iraqi-syndrome",
   "metadata": {
    "ExecuteTime": {
     "end_time": "2021-09-03T19:57:11.602000-03:00",
     "start_time": "2021-09-03T22:57:11.058Z"
    },
    "scrolled": false
   },
   "outputs": [
    {
     "data": {
      "image/png": "[encoded data removed]",
      "text/plain": [
       "Figure(PyObject <Figure size 640x480 with 1 Axes>)"
      ]
     },
     "metadata": {},
     "output_type": "display_data"
    },
    {
     "data": {
      "image/png": "[encoded data removed]",
      "text/plain": [
       "Figure(PyObject <Figure size 640x480 with 1 Axes>)"
      ]
     },
     "metadata": {},
     "output_type": "display_data"
    }
   ],
   "source": [
    "hist_results(data0,[\"e\",\"cmo\"], idxs_vol[4])"
   ]
  },
  {
   "cell_type": "markdown",
   "id": "naval-reservation",
   "metadata": {},
   "source": [
    "#### Convergence to Nash Equilibria"
   ]
  },
  {
   "cell_type": "code",
   "execution_count": 169,
   "id": "surrounded-eclipse",
   "metadata": {
    "ExecuteTime": {
     "end_time": "2021-09-03T19:57:15.749000-03:00",
     "start_time": "2021-09-03T22:57:15.743Z"
    },
    "scrolled": true
   },
   "outputs": [
    {
     "data": {
      "text/plain": [
       "4-element Vector{Float64}:\n",
       " 24.0\n",
       " 38.0\n",
       "  3.0\n",
       "  9.0"
      ]
     },
     "execution_count": 169,
     "metadata": {},
     "output_type": "execute_result"
    }
   ],
   "source": [
    "preco_agent = [20.0,20.0,20.0,15.0]\n",
    "bid_agent = [24.0, 38.0, 3.0, 9.0]"
   ]
  },
  {
   "cell_type": "code",
   "execution_count": 170,
   "id": "economic-journal",
   "metadata": {
    "ExecuteTime": {
     "end_time": "2021-09-03T19:57:15.926000-03:00",
     "start_time": "2021-09-03T22:57:15.917Z"
    }
   },
   "outputs": [
    {
     "data": {
      "text/plain": [
       "4-element Vector{Int64}:\n",
       " 15\n",
       " 47\n",
       " 35\n",
       " 40"
      ]
     },
     "execution_count": 170,
     "metadata": {},
     "output_type": "execute_result"
    }
   ],
   "source": [
    "preco_agent = [30.0,20.0,10.0,15.0]\n",
    "bid_agent = [15,47,35,40]"
   ]
  },
  {
   "cell_type": "code",
   "execution_count": 171,
   "id": "express-spice",
   "metadata": {
    "ExecuteTime": {
     "end_time": "2021-09-03T19:57:16.339000-03:00",
     "start_time": "2021-09-03T22:57:16.110Z"
    }
   },
   "outputs": [
    {
     "data": {
      "text/plain": [
       "pretty_print (generic function with 1 method)"
      ]
     },
     "execution_count": 171,
     "metadata": {},
     "output_type": "execute_result"
    }
   ],
   "source": [
    "function pretty_print(string)\n",
    "    println('-'^60)\n",
    "    println(string)\n",
    "    println('-'^60)\n",
    "end"
   ]
  },
  {
   "cell_type": "code",
   "execution_count": 107,
   "id": "arctic-resort",
   "metadata": {
    "ExecuteTime": {
     "end_time": "2021-09-01T19:09:12.168000-03:00",
     "start_time": "2021-09-01T22:05:57.626Z"
    },
    "scrolled": true
   },
   "outputs": [
    {
     "name": "stdout",
     "output_type": "stream",
     "text": [
      "------------------------------------------------------------\n",
      "Iter = 1\n",
      "------------------------------------------------------------\n",
      "Agent = 1\n",
      "mean.(bid_agent) = [27.269999999999996, 34.73000000000001, 9.07, 2.917633136094674]\n",
      "mean.(preco_agent) = [19.999999999999996, 20.0, 20.0, 19.171597633136095]\n",
      "var.(bid_agent) = [NaN, 3.7865323450608567e-29, 4.265300000000002, 4.117495761524451]\n",
      "var.(preco_agent) = [NaN, 4.2072581611787294e-30, 0.0, 3.457335014712063]\n",
      "\n",
      "Agent = 2\n",
      "mean.(bid_agent) = [17.329999999999984, 24.425384615384626, 10.934556213017759, 17.364274010013656]\n",
      "mean.(preco_agent) = [19.999999999999993, 20.0, NaN, 23.923532089212564]\n",
      "var.(bid_agent) = [NaN, 57.722893589743734, 40.29814756973796, 43.75123377370036]\n",
      "var.(preco_agent) = [NaN, 1.0518145402946823e-30, NaN, 23.852073493163807]\n",
      "\n",
      "------------------------------------------------------------\n",
      "Iter = 2\n",
      "------------------------------------------------------------\n",
      "Agent = 1\n",
      "mean.(bid_agent) = [30.60000000000001, 8.314615384615383, 16.995325443786975, 17.39629494765589]\n",
      "mean.(preco_agent) = [19.99999999999999, 20.76923076923077, 24.08284023668639, 23.44560764679108]\n",
      "var.(bid_agent) = [NaN, 9.136993589743597, 21.795966708932106, 20.016603570525454]\n",
      "var.(preco_agent) = [NaN, 7.6923076923076925, 24.302620456466606, 22.594148503548062]\n",
      "\n",
      "Agent = 2\n",
      "mean.(bid_agent) = [24.120000000000033, 12.553076923076901, 17.705325443786972, 18.86098771051433]\n",
      "mean.(preco_agent) = [19.999999999999986, 23.846153846153847, 24.08284023668639, 23.286299499317252]\n",
      "var.(bid_agent) = [NaN, 15.609256410256323, 19.326453613693957, 18.65226965239896]\n",
      "var.(preco_agent) = [NaN, 25.64102564102564, 24.302620456466602, 22.073277602426884]\n",
      "\n"
     ]
    }
   ],
   "source": [
    "preco_agent = [30.0,20.0,10.0,15.0]\n",
    "bid_agent = [15,47,35,40]\n",
    "all_prices = false\n",
    "for iter in 1:2\n",
    "    pretty_print(\"Iter = $iter\")\n",
    "    for agent in 1:2\n",
    "        println(\"Agent = $agent\")\n",
    "        model3 = agent_model_deterministic(bid_agent,preco_agent,agent,xpress;integrality=MIP,all_prices=all_prices);\n",
    "        set_time_limit_sec(model3, 60.0)\n",
    "        set_silent(model3)\n",
    "        optimize!(model3)\n",
    "        data3 = results(model3); \n",
    "        bid_agent = [[data3[:e][node] for node in nodes_t] for nodes_t in idxs_vol]\n",
    "        preco_agent = [[data3[:cmo][node] for node in nodes_t] for nodes_t in idxs_vol]\n",
    "        @show mean.(bid_agent)\n",
    "        @show mean.(preco_agent)\n",
    "        @show var.(bid_agent)\n",
    "        @show var.(preco_agent)\n",
    "        println()\n",
    "        all_prices = true\n",
    "    end\n",
    "end"
   ]
  }
 ],
 "metadata": {
  "kernelspec": {
   "display_name": "Julia 1.6.1",
   "language": "julia",
   "name": "julia-1.6"
  },
  "language_info": {
   "file_extension": ".jl",
   "mimetype": "application/julia",
   "name": "julia",
   "version": "1.6.1"
  },
  "toc": {
   "base_numbering": 1,
   "nav_menu": {},
   "number_sections": true,
   "sideBar": true,
   "skip_h1_title": false,
   "title_cell": "Table of Contents",
   "title_sidebar": "Contents",
   "toc_cell": false,
   "toc_position": {
    "height": "calc(100% - 180px)",
    "left": "10px",
    "top": "150px",
    "width": "165px"
   },
   "toc_section_display": true,
   "toc_window_display": false
  }
 },
 "nbformat": 4,
 "nbformat_minor": 5
}
